{
 "cells": [
  {
   "cell_type": "code",
   "execution_count": 1,
   "metadata": {},
   "outputs": [],
   "source": [
    "# Create a 3D Cartesian coordinate\n",
    "from sympy.vector import CoordSys3D\n",
    "\n",
    "X = CoordSys3D('X')"
   ]
  },
  {
   "cell_type": "code",
   "execution_count": 2,
   "metadata": {},
   "outputs": [
    {
     "data": {
      "text/latex": [
       "$\\displaystyle \\mathbf{\\hat{i}_{X}}$"
      ],
      "text/plain": [
       "X.i"
      ]
     },
     "execution_count": 2,
     "metadata": {},
     "output_type": "execute_result"
    }
   ],
   "source": [
    "# Add unit vector along the axes\n",
    "X.i"
   ]
  },
  {
   "cell_type": "code",
   "execution_count": 3,
   "metadata": {},
   "outputs": [
    {
     "data": {
      "text/latex": [
       "$\\displaystyle \\mathbf{\\hat{i}_{X}} + \\mathbf{\\hat{j}_{X}} + \\mathbf{\\hat{k}_{X}}$"
      ],
      "text/plain": [
       "X.i + X.j + X.k"
      ]
     },
     "execution_count": 3,
     "metadata": {},
     "output_type": "execute_result"
    }
   ],
   "source": [
    "# Create a vector A\n",
    "vect_A = X.i + X.j + X.k\n",
    "vect_A"
   ]
  },
  {
   "cell_type": "code",
   "execution_count": 4,
   "metadata": {},
   "outputs": [
    {
     "data": {
      "text/latex": [
       "$\\displaystyle \\mathbf{\\hat{i}_{X}} + (3)\\mathbf{\\hat{j}_{X}} + \\mathbf{\\hat{k}_{X}}$"
      ],
      "text/plain": [
       "X.i + 3*X.j + X.k"
      ]
     },
     "execution_count": 4,
     "metadata": {},
     "output_type": "execute_result"
    }
   ],
   "source": [
    "# Add an operation to the vector\n",
    "vect_A = X.i + 3*X.j + X.k\n",
    "vect_A"
   ]
  },
  {
   "cell_type": "code",
   "execution_count": 5,
   "metadata": {},
   "outputs": [
    {
     "data": {
      "text/latex": [
       "$\\displaystyle (2)\\mathbf{\\hat{i}_{X}} + \\mathbf{\\hat{j}_{X}} + \\mathbf{\\hat{k}_{X}}$"
      ],
      "text/plain": [
       "2*X.i + X.j + X.k"
      ]
     },
     "execution_count": 5,
     "metadata": {},
     "output_type": "execute_result"
    }
   ],
   "source": [
    "# Create a vector B\n",
    "vect_B = 2*X.i + X.j + X.k\n",
    "vect_B"
   ]
  },
  {
   "cell_type": "markdown",
   "metadata": {},
   "source": [
    "Vector Dot Product\n",
    "$$\\vec{A}\\cdot\\vec{B}"
   ]
  },
  {
   "cell_type": "code",
   "execution_count": 6,
   "metadata": {},
   "outputs": [
    {
     "data": {
      "text/latex": [
       "$\\displaystyle 6$"
      ],
      "text/plain": [
       "6"
      ]
     },
     "execution_count": 6,
     "metadata": {},
     "output_type": "execute_result"
    }
   ],
   "source": [
    "# vector A . vector B\n",
    "vect_A & vect_B"
   ]
  },
  {
   "cell_type": "markdown",
   "metadata": {},
   "source": [
    "Vector Cross Product\n",
    "$$\\vec{A}\\times\\vec{B}"
   ]
  },
  {
   "cell_type": "code",
   "execution_count": 7,
   "metadata": {},
   "outputs": [
    {
     "data": {
      "text/latex": [
       "$\\displaystyle (2)\\mathbf{\\hat{i}_{X}} + \\mathbf{\\hat{j}_{X}} + (-5)\\mathbf{\\hat{k}_{X}}$"
      ],
      "text/plain": [
       "2*X.i + X.j + (-5)*X.k"
      ]
     },
     "execution_count": 7,
     "metadata": {},
     "output_type": "execute_result"
    }
   ],
   "source": [
    "# vector A x vector B\n",
    "vect_A ^ vect_B"
   ]
  }
 ],
 "metadata": {
  "interpreter": {
   "hash": "c3f1c940c80006a7be38daf0ba320ade14928d475653c8041fa2ef84c23a880f"
  },
  "kernelspec": {
   "display_name": "Python 3.9.7 64-bit ('myenv': conda)",
   "language": "python",
   "name": "python3"
  },
  "language_info": {
   "codemirror_mode": {
    "name": "ipython",
    "version": 3
   },
   "file_extension": ".py",
   "mimetype": "text/x-python",
   "name": "python",
   "nbconvert_exporter": "python",
   "pygments_lexer": "ipython3",
   "version": "3.9.7"
  },
  "orig_nbformat": 4
 },
 "nbformat": 4,
 "nbformat_minor": 2
}
