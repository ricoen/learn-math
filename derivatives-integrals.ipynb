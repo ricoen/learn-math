{
 "cells": [
  {
   "cell_type": "code",
   "execution_count": 2,
   "metadata": {},
   "outputs": [],
   "source": [
    "# Load sympy module\n",
    "from sympy import *"
   ]
  },
  {
   "cell_type": "code",
   "execution_count": 3,
   "metadata": {},
   "outputs": [],
   "source": [
    "# Define variables\n",
    "x, y = symbols('x y')"
   ]
  },
  {
   "cell_type": "markdown",
   "metadata": {},
   "source": [
    "Define the function\n",
    "$$f(x) = x^3 - 2x^2 + x - 1$$"
   ]
  },
  {
   "cell_type": "code",
   "execution_count": 4,
   "metadata": {},
   "outputs": [],
   "source": [
    "# Function f(x) = x^3 - 2x^2 + x - 1\n",
    "def f(x):\n",
    "    return x**3 - 2*x**2 + x - 1"
   ]
  },
  {
   "cell_type": "code",
   "execution_count": 13,
   "metadata": {},
   "outputs": [
    {
     "data": {
      "text/latex": [
       "$\\displaystyle 3 x^{2} - 4 x + 1$"
      ],
      "text/plain": [
       "3*x**2 - 4*x + 1"
      ]
     },
     "execution_count": 13,
     "metadata": {},
     "output_type": "execute_result"
    }
   ],
   "source": [
    "# Derivative of f(x)\n",
    "d_x = diff(f(x), x)\n",
    "d_x"
   ]
  },
  {
   "cell_type": "code",
   "execution_count": 14,
   "metadata": {},
   "outputs": [
    {
     "name": "stdout",
     "output_type": "stream",
     "text": [
      "5\n"
     ]
    }
   ],
   "source": [
    "# Substitute x = 2\n",
    "number_subs = diff(f(x), x).subs(x, 2)\n",
    "print(number_subs)"
   ]
  },
  {
   "cell_type": "code",
   "execution_count": 11,
   "metadata": {},
   "outputs": [
    {
     "data": {
      "text/latex": [
       "$\\displaystyle \\int \\left(x^{3} - 2 x^{2} + x - 1\\right)\\, dx$"
      ],
      "text/plain": [
       "Integral(x**3 - 2*x**2 + x - 1, x)"
      ]
     },
     "execution_count": 11,
     "metadata": {},
     "output_type": "execute_result"
    }
   ],
   "source": [
    "# Integral of f(x)\n",
    "integral = Integral(f(x), x)\n",
    "integral"
   ]
  },
  {
   "cell_type": "code",
   "execution_count": 17,
   "metadata": {},
   "outputs": [
    {
     "data": {
      "text/latex": [
       "$\\displaystyle \\frac{x^{4}}{4} - \\frac{2 x^{3}}{3} + \\frac{x^{2}}{2} - x$"
      ],
      "text/plain": [
       "x**4/4 - 2*x**3/3 + x**2/2 - x"
      ]
     },
     "execution_count": 17,
     "metadata": {},
     "output_type": "execute_result"
    }
   ],
   "source": [
    "# Do the integral of f(x)\n",
    "integral.doit()"
   ]
  },
  {
   "cell_type": "code",
   "execution_count": 20,
   "metadata": {},
   "outputs": [
    {
     "name": "stdout",
     "output_type": "stream",
     "text": [
      "-4/3\n"
     ]
    }
   ],
   "source": [
    "# Substitute x = 2\n",
    "integ = integrate(f(x), x).subs(x, 2)\n",
    "print(integ)"
   ]
  },
  {
   "cell_type": "markdown",
   "metadata": {},
   "source": [
    "Define the function\n",
    "$$g(x) = x \\times y"
   ]
  },
  {
   "cell_type": "code",
   "execution_count": 7,
   "metadata": {},
   "outputs": [],
   "source": [
    "# Function g(x, y) = x * y\n",
    "def g(x, y):\n",
    "    return x * y"
   ]
  },
  {
   "cell_type": "code",
   "execution_count": 8,
   "metadata": {},
   "outputs": [
    {
     "name": "stdout",
     "output_type": "stream",
     "text": [
      "4\n"
     ]
    }
   ],
   "source": [
    "# Integral of g(x, y)\n",
    "print(integrate(g(x, y), (x, 0, 2), (y, 0, 2)))"
   ]
  }
 ],
 "metadata": {
  "interpreter": {
   "hash": "c3f1c940c80006a7be38daf0ba320ade14928d475653c8041fa2ef84c23a880f"
  },
  "kernelspec": {
   "display_name": "Python 3.9.7 64-bit ('myenv': conda)",
   "language": "python",
   "name": "python3"
  },
  "language_info": {
   "codemirror_mode": {
    "name": "ipython",
    "version": 3
   },
   "file_extension": ".py",
   "mimetype": "text/x-python",
   "name": "python",
   "nbconvert_exporter": "python",
   "pygments_lexer": "ipython3",
   "version": "3.9.7"
  },
  "orig_nbformat": 4
 },
 "nbformat": 4,
 "nbformat_minor": 2
}
