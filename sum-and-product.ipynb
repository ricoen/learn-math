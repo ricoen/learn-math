{
 "cells": [
  {
   "cell_type": "code",
   "execution_count": 13,
   "metadata": {},
   "outputs": [],
   "source": [
    "# Function f(x) = x^2 + 1\n",
    "def f(x):\n",
    "    return x*2 + 1"
   ]
  },
  {
   "cell_type": "markdown",
   "metadata": {},
   "source": [
    "Define Function\n",
    "$$f(x) = x^2 + 1"
   ]
  },
  {
   "cell_type": "code",
   "execution_count": 14,
   "metadata": {},
   "outputs": [
    {
     "name": "stdout",
     "output_type": "stream",
     "text": [
      "[3, 5, 7, 9] \n",
      "\n",
      "24\n"
     ]
    }
   ],
   "source": [
    "# Sigma notation\n",
    "sigma = []\n",
    "\n",
    "for x in range(1, 5):\n",
    "    sigma.append(f(x))\n",
    "\n",
    "print(sigma, \"\\n\")\n",
    "print(sum(sigma))"
   ]
  },
  {
   "cell_type": "code",
   "execution_count": 15,
   "metadata": {},
   "outputs": [
    {
     "name": "stdout",
     "output_type": "stream",
     "text": [
      "945\n"
     ]
    }
   ],
   "source": [
    "import math\n",
    "\n",
    "# Product notation\n",
    "product = []\n",
    "\n",
    "for x in range(1, 5):\n",
    "    product.append(f(x))\n",
    "\n",
    "print(math.prod(product))"
   ]
  }
 ],
 "metadata": {
  "interpreter": {
   "hash": "c3f1c940c80006a7be38daf0ba320ade14928d475653c8041fa2ef84c23a880f"
  },
  "kernelspec": {
   "display_name": "Python 3.9.7 64-bit ('myenv': conda)",
   "language": "python",
   "name": "python3"
  },
  "language_info": {
   "codemirror_mode": {
    "name": "ipython",
    "version": 3
   },
   "file_extension": ".py",
   "mimetype": "text/x-python",
   "name": "python",
   "nbconvert_exporter": "python",
   "pygments_lexer": "ipython3",
   "version": "3.9.7"
  },
  "orig_nbformat": 4
 },
 "nbformat": 4,
 "nbformat_minor": 2
}
